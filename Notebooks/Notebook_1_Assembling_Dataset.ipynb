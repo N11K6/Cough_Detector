{
 "cells": [
  {
   "cell_type": "markdown",
   "metadata": {},
   "source": [
    "# Part I: Assembling a Dataset & Extracting the Features"
   ]
  },
  {
   "cell_type": "markdown",
   "metadata": {},
   "source": [
    "## Audio Data\n",
    "\n",
    "The first thing we need in order to create a model for cough detection and monitoring, is the data. This data comes in the form of audio files.\n",
    "\n",
    "Two types of audio were sought out in order to form our dataset: \n",
    "   1. The first is obviously samples of people coughing. No further label is necessary at this point, however it is useful to include examples of all sexes and ages. \n",
    "   2. The second is any type of sound that is not a cough. As the intended implementation of this model is as an overnight monitoring module, sounds that have a high likelyhood of being heard in such a scenario were sought out. These include: random talking, snoring, footsteps, doors & drawers being opened and shut, street noises as recorded from indoors.\n",
    "\n",
    "An existing snoring dataset was very helpful in assembing our own. A number of audio samples was used from:\n",
    "T. H. Khan, \"A deep learning model for snoring detection and vibration notification using a smart wearable gadget,\" Electronics, vol. 8, no. 9, article. 987, ISSN 2079-9292, 2019.\n",
    "\n",
    "All other audio has been obtained from open access sources, extracted from youtube videos, or recorded by the author."
   ]
  },
  {
   "cell_type": "code",
   "execution_count": 1,
   "metadata": {},
   "outputs": [],
   "source": [
    "# Import libraries to be used\n",
    "\n",
    "import numpy as np\n",
    "import os\n",
    "from os import walk\n",
    "import librosa as lb\n",
    "import librosa.display as lbd\n",
    "import matplotlib.pyplot as plt\n",
    "from pydub import AudioSegment\n",
    "from pydub.silence import split_on_silence"
   ]
  },
  {
   "cell_type": "markdown",
   "metadata": {},
   "source": [
    "The various raw audio files have been stored in two directories named \"various cough sounds\" and \"various non-cough sounds\". These files are uneven in length and contain multiple instances of the acoustic events in question. \n",
    "\n",
    "A first step we have to take is to split these raw audio files into segments each containing a single event (cough, or a non-cough instance). We chose to save the segments as wav files since they are much more convenient to work with than mp3s."
   ]
  },
  {
   "cell_type": "code",
   "execution_count": null,
   "metadata": {},
   "outputs": [],
   "source": [
    "def isolate_events(loadpath, savepath, min_silence_len, silence_thresh):\n",
    "    '''Function to split raw audio into chunks corresponding to isolated events\n",
    "    takes a specified loading path, a saving path, the minimum silence time length \n",
    "    in ms, and the threshold for silence in dB.'''\n",
    "    \n",
    "    sound_file = AudioSegment.from_mp3(loadpath)\n",
    "    \n",
    "    # split audio\n",
    "    audio_chunks = split_on_silence(sound_file, \n",
    "                                    # must be silent for at least half a second\n",
    "                                    min_silence_len=min_silence_len,\n",
    "                                    # consider it silent if quieter than \n",
    "                                    silence_thresh=silence_thresh\n",
    "                                   )\n",
    "    # store the \n",
    "    for i, chunk in enumerate(audio_chunks):\n",
    "\n",
    "        out_file = savepath+i+\".wav\"\n",
    "        print(\"exporting\", out_file)\n",
    "        chunk.export(out_file, format=\"wav\")"
   ]
  },
  {
   "cell_type": "code",
   "execution_count": null,
   "metadata": {},
   "outputs": [],
   "source": [
    "# Make sure the directories exist to store the segmented audio:\n",
    "if not os.path.exists(\"cough_segments\"):\n",
    "    os.makedirs(\"cough_segments\")\n",
    "if not os.path.exists(\"nocough_segments\"):\n",
    "    os.makedirs(\"nocough_segments\")"
   ]
  },
  {
   "cell_type": "markdown",
   "metadata": {},
   "source": [
    "So now we can use the above function to extract audio events from our raw audio files. We will not automate this process further, as each raw audio file requires specific settings for the minimum silence length, and the silence threshold, that are better fine tuned manually."
   ]
  },
  {
   "cell_type": "code",
   "execution_count": null,
   "metadata": {},
   "outputs": [],
   "source": [
    "trained# Create cough audio events - or change the paths for the non-coughing events:\n",
    "LOADPATH = \"path/to/raw/audio/\"\n",
    "SAVEPATH = \"path/to/processed/audio\"\n",
    "isolate_events(LOADPATH, SAVEPATH, 500, -35)"
   ]
  },
  {
   "cell_type": "markdown",
   "metadata": {},
   "source": [
    "## Generate Features\n",
    "\n",
    "So now we have a dataset full of short audio files, each corresponding to a single event (cough or no-cough). \n",
    "\n",
    "What is next, is to generate features we can train a model on out of this audio data. A good choice when it comes to human sounds is to use the Mel Frequency Ceptral Coefficients. We will not go into detail on what these are, but librosa has a convenient method to extract and plot these features. The resulting plots will be saved as png images.\n",
    "\n",
    "An example of an MFCC plot is shown below:"
   ]
  },
  {
   "cell_type": "code",
   "execution_count": 28,
   "metadata": {},
   "outputs": [],
   "source": [
    "def demonstrate_MFCC(filepath, duration = 1, sample_rate = 44100):\n",
    "    '''Calculates MFCC for a segment of specified duration from an audio file\n",
    "        , using a specified sample rate, and outputs the corresponding plot.'''\n",
    "    # Load audio into numpy array\n",
    "    data, sr = lb.load(filepath, sr = sample_rate)\n",
    "    \n",
    "    # Normalize within range 0,1\n",
    "    data /= np.max(np.abs(data))\n",
    "    \n",
    "    # Segment audio to specified duration, zero pad if too short\n",
    "    if len(data) <= sr:\n",
    "        data = np.append(data, np.zeros(sr-len(data)))\n",
    "    else:\n",
    "        data = data[:sr]\n",
    "        \n",
    "    # Set up plotting environment\n",
    "    fig = plt.figure(figsize = [5,3])\n",
    "    ax = fig.add_subplot(111)\n",
    "    #ax.axes.get_xaxis().set_visible(False)\n",
    "    #ax.axes.get_yaxis().set_visible(False)\n",
    "    #ax.set_frame_on(False)\n",
    "    \n",
    "    #Calculate and plot MFCCs\n",
    "    S = lb.feature.mfcc(y=data, sr=sr)\n",
    "    img = lbd.specshow(S, x_axis='time')\n",
    "    \n",
    "    fig.colorbar(img, ax=ax)\n"
   ]
  },
  {
   "cell_type": "code",
   "execution_count": 29,
   "metadata": {},
   "outputs": [
    {
     "data": {
      "image/png": "[encoded data removed]",
      "text/plain": [
       "<Figure size 360x216 with 2 Axes>"
      ]
     },
     "metadata": {
      "needs_background": "light"
     },
     "output_type": "display_data"
    }
   ],
   "source": [
    "# Check MFCC image output for a coughing audio sample\n",
    "filepath = 'path/to/coughing/audio.wav'\n",
    "demonstrate_MFCC(filepath)"
   ]
  },
  {
   "cell_type": "markdown",
   "metadata": {},
   "source": [
    "So this is an example of the MFCC for a cough event. Let's see what it looks like for something that is not a cough:"
   ]
  },
  {
   "cell_type": "code",
   "execution_count": 30,
   "metadata": {
    "scrolled": false
   },
   "outputs": [
    {
     "data": {
      "image/png": "[encoded data removed]",
      "text/plain": [
       "<Figure size 360x216 with 2 Axes>"
      ]
     },
     "metadata": {
      "needs_background": "light"
     },
     "output_type": "display_data"
    }
   ],
   "source": [
    "# Check MFCC image output for a non-coughing audio sample\n",
    "filepath = 'path/to/other/audio.wav'\n",
    "demonstrate_MFCC(filepath)"
   ]
  },
  {
   "cell_type": "markdown",
   "metadata": {},
   "source": [
    "In a way, what we are doing is representing sound with pictures. Or the equivalent of a picture to a neural network, as all it \"sees\" is a multi-dimensional tensor. A great deal of the properties that define each audio sample are contained in these MFCCs. Therefore, we can rely on a model that would normally be used to classify images to perform the classification of audio events.\n",
    "\n",
    "So, instead of pictures, we can calculate multi-dimensional arrays corresponding to the MFCCs of audio samples and use those as input for a Convolutional Neural Network to detect patterns and perform the classification task.\n",
    "\n",
    "We can use the function below to generate a dataset of uniform audio samples in duration and sample rate, that will allow our model to be trained effectively. For this instance, we will use audio with duration of 1 second and a sampling rate of 44100 Hz."
   ]
  },
  {
   "cell_type": "code",
   "execution_count": null,
   "metadata": {},
   "outputs": [],
   "source": [
    "def export_sample_wavs(dirpath_from, dirpath_to, name, dur=1, sample_rate=44100):\n",
    "    '''Reads audio files from a directory, segments them to a specific duration and using\n",
    "        a uniform sample rate and stores them.'''\n",
    "    \n",
    "    # Make directory if it doesn't exist\n",
    "    if not os.path.exists(dirpath_to):\n",
    "        os.makedirs(dirpath_to)\n",
    "    \n",
    "    filepaths = []\n",
    "    # Locate existing audio\n",
    "    for (_,_,filenames) in walk(dirpath_from):\n",
    "        filepaths.extend(filenames)\n",
    "        break\n",
    "    for i, filepath in enumerate(filepaths):\n",
    "        # Read in audio\n",
    "        data, sr = lb.load(dirpath_from + '/'+ filepath, sr = sample_rate)\n",
    "        # Set length\n",
    "        if len(data) >= dur * sr:\n",
    "            data = data[:sr]\n",
    "        else:\n",
    "            data = np.append(data, np.zeros(sr-len(data)))\n",
    "        # Store .wav file\n",
    "        savename = dirpath_to + '/' + name + str(i) + '.wav'\n",
    "        soundfile.write(savename, data, sr)"
   ]
  },
  {
   "cell_type": "code",
   "execution_count": null,
   "metadata": {},
   "outputs": [],
   "source": [
    "dirpath_from = 'path/to/processed/audio/'\n",
    "dirpath_to = 'path/to/training/dataset/'\n",
    "name = 'a_fitting_filename_'\n",
    "\n",
    "export_sample_wavs(dirpath_from, dirpath_to, name)"
   ]
  },
  {
   "cell_type": "markdown",
   "metadata": {},
   "source": [
    "Now we should have a training dataset of tidied up and uniform audio samples. In the next Notebook we will load this data, extract the MFCC features, design a convolutional network and train it."
   ]
  }
 ],
 "metadata": {
  "kernelspec": {
   "display_name": "Python 3",
   "language": "python",
   "name": "python3"
  },
  "language_info": {
   "codemirror_mode": {
    "name": "ipython",
    "version": 3
   },
   "file_extension": ".py",
   "mimetype": "text/x-python",
   "name": "python",
   "nbconvert_exporter": "python",
   "pygments_lexer": "ipython3",
   "version": "3.8.5"
  }
 },
 "nbformat": 4,
 "nbformat_minor": 4
}
